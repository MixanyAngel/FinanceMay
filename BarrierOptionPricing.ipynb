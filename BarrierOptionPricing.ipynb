{
 "cells": [
  {
   "cell_type": "code",
   "execution_count": 1,
   "metadata": {},
   "outputs": [],
   "source": [
    "import numpy as np\n",
    "import matplotlib.pyplot as plt"
   ]
  },
  {
   "cell_type": "code",
   "execution_count": 2,
   "metadata": {},
   "outputs": [],
   "source": [
    "import enum\n",
    "from Py.BS import TypeOptionVanilla\n",
    "import pandas as pd\n",
    "from Py.Market import *\n",
    "from Py.ResultSimulation import *\n",
    "from Py.BlackScholes import *\n",
    "from Py.Heston import *\n",
    "from Py.CalibrationProduct import *\n",
    "from Py.BarrierOptionProduct import *\n",
    "\n",
    "from Py.BarrierOptionPricer import *\n",
    "from Py.MCSensi import *\n",
    "\n",
    "# import BaseProduct\n",
    "# from BaseProduct import *"
   ]
  },
  {
   "cell_type": "markdown",
   "metadata": {},
   "source": [
    "### Create Market"
   ]
  },
  {
   "cell_type": "code",
   "execution_count": 3,
   "metadata": {},
   "outputs": [],
   "source": [
    "spot = 100\n",
    "marketObj = Market(spot)\n",
    "marketObj.initBlack(r= 0.00,repo = 0.000,vol = 0.2)"
   ]
  },
  {
   "cell_type": "markdown",
   "metadata": {},
   "source": [
    "### Create Model for Pricing"
   ]
  },
  {
   "cell_type": "code",
   "execution_count": 4,
   "metadata": {},
   "outputs": [],
   "source": [
    "hestonObj = Heston(marketObj,rho = -0.7,Vo = 0.2,nu=0.7)\n",
    "bsModel = BlackScholesModel(marketObj,sigma= 0.2)"
   ]
  },
  {
   "cell_type": "markdown",
   "metadata": {},
   "source": [
    "##### Set For calibration"
   ]
  },
  {
   "cell_type": "code",
   "execution_count": 5,
   "metadata": {},
   "outputs": [],
   "source": [
    "listK = [30,80,100,110,120]\n",
    "listT = [1,2]\n",
    "So = 100\n",
    "listCalibrationProducts = []\n",
    "\n",
    "for K in listK:\n",
    "    \n",
    "    sens = 1 if K <=So else -1\n",
    "    for T in listT:        \n",
    "        listCalibrationProducts.append(VanillaProduct(K,T,marketObj,sens))"
   ]
  },
  {
   "cell_type": "code",
   "execution_count": null,
   "metadata": {},
   "outputs": [],
   "source": [
    "hestonObj.calibrate(listCalibrationProducts,verbose=1,listParamToFix=[],maxIter=100)"
   ]
  },
  {
   "cell_type": "code",
   "execution_count": 6,
   "metadata": {},
   "outputs": [
    {
     "data": {
      "text/plain": [
       "{'kappa': 4, 'theta': 0.2, 'Vo': 0.2, 'nu': 0.7, 'rho': -0.7}"
      ]
     },
     "execution_count": 6,
     "metadata": {},
     "output_type": "execute_result"
    }
   ],
   "source": [
    "hestonObj.printParams()"
   ]
  },
  {
   "cell_type": "markdown",
   "metadata": {},
   "source": [
    "##### Check Calibration"
   ]
  },
  {
   "cell_type": "code",
   "execution_count": 7,
   "metadata": {},
   "outputs": [],
   "source": [
    "model = hestonObj"
   ]
  },
  {
   "cell_type": "code",
   "execution_count": 8,
   "metadata": {},
   "outputs": [
    {
     "data": {
      "text/plain": [
       "[19.84933128407612,\n",
       " 95.44671411192652,\n",
       " 3214.5895754331555,\n",
       " 4517.740303817917,\n",
       " 11397.635434389713,\n",
       " 11296.011323742814,\n",
       " 6056.051301331602,\n",
       " 7254.198769369129,\n",
       " 3396.1712999487513,\n",
       " 4854.637781039674]"
      ]
     },
     "execution_count": 8,
     "metadata": {},
     "output_type": "execute_result"
    }
   ],
   "source": [
    "[((model.modelPrice(u)-u.value)/u.value)*10000 for u in listCalibrationProducts]"
   ]
  },
  {
   "cell_type": "markdown",
   "metadata": {},
   "source": [
    "### Create Barrier product and Price"
   ]
  },
  {
   "cell_type": "code",
   "execution_count": 11,
   "metadata": {},
   "outputs": [],
   "source": [
    "spotRef = 100\n",
    "maturity = 2\n",
    "strikeOption = 1.0\n",
    "BarrierLevel = 0.8\n",
    "typeBarrier = TypeBarrier.DownAndIn\n",
    "typeOption = TypeOptionVanilla.Put \n",
    "hasRebate = False\n",
    "rebateCpn = 0.0\n",
    "Nominal = 100"
   ]
  },
  {
   "cell_type": "code",
   "execution_count": 12,
   "metadata": {},
   "outputs": [],
   "source": [
    "barrierOptionProduct = BarrierOptionProduct(spotRef = spotRef,maturity = maturity,\n",
    "                                            strikeOption = strikeOption,\n",
    "                                            BarrierLevel = BarrierLevel,\n",
    "                                            typeBarrier = typeBarrier,\n",
    "                                            typeOption = typeOption,\n",
    "                                            hasRebate = hasRebate,\n",
    "                                            rebateCpn = rebateCpn,\n",
    "                                            Nominal = Nominal )"
   ]
  },
  {
   "cell_type": "code",
   "execution_count": 15,
   "metadata": {},
   "outputs": [
    {
     "name": "stdout",
     "output_type": "stream",
     "text": [
      "0.05 is being treated\n",
      "0.1 is being treated\n",
      "0.3 is being treated\n",
      "0.5 is being treated\n",
      "0.7 is being treated\n",
      "1.0 is being treated\n",
      "1.2 is being treated\n",
      "1.4 is being treated\n",
      "1.7 is being treated\n",
      "2 is being treated\n",
      "2.5 is being treated\n",
      "3 is being treated\n",
      "3.5 is being treated\n",
      "4 is being treated\n",
      "4.5 is being treated\n",
      "5 is being treated\n",
      "5.5 is being treated\n",
      "6 is being treated\n",
      "6.5 is being treated\n",
      "7 is being treated\n",
      "7.5 is being treated\n",
      "8 is being treated\n",
      "8.5 is being treated\n",
      "124.4974901676178\n"
     ]
    }
   ],
   "source": [
    "#listSpots=[0.1,0.2,0.4, 0.5, 0.6, 0.7, 0.8, 0.9, 1.0, 1.1, 1.2,1.3,1.4, 1.5,1.7,2,2.5,3]\n",
    "sensiEngine = GenerateMCSensi(barrierOptionProduct,BarrierOptionPricer,bsModel,nbSim = 5000,discretStep = Frequency.BiDaily)\n",
    "resSensi = sensiEngine.runPriceAndGreeks(listSpots=[0.05,0.1,0.3,0.5, 0.7, 1.0,1.2,1.4,1.7,2,2.5,3,3.5,4,4.5,5,5.5,6,6.5,7,7.5,8,8.5])"
   ]
  },
  {
   "cell_type": "code",
   "execution_count": 18,
   "metadata": {},
   "outputs": [
    {
     "data": {
      "image/png": "[encoded data removed]",
      "text/plain": [
       "<Figure size 1080x504 with 8 Axes>"
      ]
     },
     "metadata": {
      "needs_background": "light"
     },
     "output_type": "display_data"
    }
   ],
   "source": [
    "mcSensiPlot(resSensi)"
   ]
  },
  {
   "cell_type": "code",
   "execution_count": 19,
   "metadata": {},
   "outputs": [
    {
     "data": {
      "text/html": [
       "<div>\n",
       "<style scoped>\n",
       "    .dataframe tbody tr th:only-of-type {\n",
       "        vertical-align: middle;\n",
       "    }\n",
       "\n",
       "    .dataframe tbody tr th {\n",
       "        vertical-align: top;\n",
       "    }\n",
       "\n",
       "    .dataframe thead th {\n",
       "        text-align: right;\n",
       "    }\n",
       "</style>\n",
       "<table border=\"1\" class=\"dataframe\">\n",
       "  <thead>\n",
       "    <tr style=\"text-align: right;\">\n",
       "      <th></th>\n",
       "      <th>Price</th>\n",
       "      <th>Delta</th>\n",
       "      <th>Gamma</th>\n",
       "      <th>Vega</th>\n",
       "      <th>Vomma</th>\n",
       "      <th>Vanna</th>\n",
       "      <th>Rho</th>\n",
       "      <th>RepoSensi</th>\n",
       "    </tr>\n",
       "    <tr>\n",
       "      <th>Spot</th>\n",
       "      <th></th>\n",
       "      <th></th>\n",
       "      <th></th>\n",
       "      <th></th>\n",
       "      <th></th>\n",
       "      <th></th>\n",
       "      <th></th>\n",
       "      <th></th>\n",
       "    </tr>\n",
       "  </thead>\n",
       "  <tbody>\n",
       "    <tr>\n",
       "      <th>0.05</th>\n",
       "      <td>94.976738</td>\n",
       "      <td>-5.023262</td>\n",
       "      <td>2.842171e-09</td>\n",
       "      <td>-0.025792</td>\n",
       "      <td>-0.003809</td>\n",
       "      <td>-0.025983</td>\n",
       "      <td>-201.336003</td>\n",
       "      <td>10.113635</td>\n",
       "    </tr>\n",
       "    <tr>\n",
       "      <th>0.10</th>\n",
       "      <td>89.953476</td>\n",
       "      <td>-10.046524</td>\n",
       "      <td>-2.557954e-09</td>\n",
       "      <td>-0.051584</td>\n",
       "      <td>-0.007619</td>\n",
       "      <td>-0.051965</td>\n",
       "      <td>-201.336003</td>\n",
       "      <td>20.227269</td>\n",
       "    </tr>\n",
       "    <tr>\n",
       "      <th>0.30</th>\n",
       "      <td>69.860429</td>\n",
       "      <td>-30.139571</td>\n",
       "      <td>-6.252776e-09</td>\n",
       "      <td>-0.154753</td>\n",
       "      <td>-0.022857</td>\n",
       "      <td>-0.155896</td>\n",
       "      <td>-201.336003</td>\n",
       "      <td>60.681808</td>\n",
       "    </tr>\n",
       "    <tr>\n",
       "      <th>0.50</th>\n",
       "      <td>49.816227</td>\n",
       "      <td>-49.697737</td>\n",
       "      <td>3.454530e+00</td>\n",
       "      <td>0.151506</td>\n",
       "      <td>2.103149</td>\n",
       "      <td>3.099120</td>\n",
       "      <td>-199.861951</td>\n",
       "      <td>99.331575</td>\n",
       "    </tr>\n",
       "    <tr>\n",
       "      <th>0.70</th>\n",
       "      <td>30.862792</td>\n",
       "      <td>-60.689764</td>\n",
       "      <td>5.479999e+01</td>\n",
       "      <td>3.992758</td>\n",
       "      <td>7.640262</td>\n",
       "      <td>21.222699</td>\n",
       "      <td>-182.303234</td>\n",
       "      <td>117.868774</td>\n",
       "    </tr>\n",
       "    <tr>\n",
       "      <th>1.00</th>\n",
       "      <td>10.154297</td>\n",
       "      <td>-47.550588</td>\n",
       "      <td>-4.780282e+02</td>\n",
       "      <td>13.486999</td>\n",
       "      <td>-12.167533</td>\n",
       "      <td>66.465423</td>\n",
       "      <td>-110.212730</td>\n",
       "      <td>84.143246</td>\n",
       "    </tr>\n",
       "    <tr>\n",
       "      <th>1.20</th>\n",
       "      <td>3.791799</td>\n",
       "      <td>-22.126426</td>\n",
       "      <td>2.732313e+02</td>\n",
       "      <td>10.670864</td>\n",
       "      <td>3.418957</td>\n",
       "      <td>-57.991951</td>\n",
       "      <td>-59.398577</td>\n",
       "      <td>46.991794</td>\n",
       "    </tr>\n",
       "    <tr>\n",
       "      <th>1.40</th>\n",
       "      <td>1.307542</td>\n",
       "      <td>-8.945005</td>\n",
       "      <td>-9.634919e+01</td>\n",
       "      <td>5.903629</td>\n",
       "      <td>9.032842</td>\n",
       "      <td>-26.903475</td>\n",
       "      <td>-27.621558</td>\n",
       "      <td>22.194432</td>\n",
       "    </tr>\n",
       "    <tr>\n",
       "      <th>1.70</th>\n",
       "      <td>0.249564</td>\n",
       "      <td>-1.523692</td>\n",
       "      <td>8.410695e+01</td>\n",
       "      <td>1.961895</td>\n",
       "      <td>10.713164</td>\n",
       "      <td>-23.221286</td>\n",
       "      <td>-7.710914</td>\n",
       "      <td>6.255891</td>\n",
       "    </tr>\n",
       "    <tr>\n",
       "      <th>2.00</th>\n",
       "      <td>0.046854</td>\n",
       "      <td>-0.288447</td>\n",
       "      <td>1.906029e+01</td>\n",
       "      <td>0.558885</td>\n",
       "      <td>3.409014</td>\n",
       "      <td>-5.829044</td>\n",
       "      <td>-2.027860</td>\n",
       "      <td>1.660272</td>\n",
       "    </tr>\n",
       "    <tr>\n",
       "      <th>2.50</th>\n",
       "      <td>0.000000</td>\n",
       "      <td>0.000000</td>\n",
       "      <td>0.000000e+00</td>\n",
       "      <td>0.023319</td>\n",
       "      <td>0.466376</td>\n",
       "      <td>-0.153362</td>\n",
       "      <td>-0.197992</td>\n",
       "      <td>0.162102</td>\n",
       "    </tr>\n",
       "    <tr>\n",
       "      <th>3.00</th>\n",
       "      <td>0.000000</td>\n",
       "      <td>0.000000</td>\n",
       "      <td>0.000000e+00</td>\n",
       "      <td>0.000000</td>\n",
       "      <td>0.000000</td>\n",
       "      <td>0.000000</td>\n",
       "      <td>0.000000</td>\n",
       "      <td>0.000000</td>\n",
       "    </tr>\n",
       "    <tr>\n",
       "      <th>3.50</th>\n",
       "      <td>0.000000</td>\n",
       "      <td>0.000000</td>\n",
       "      <td>0.000000e+00</td>\n",
       "      <td>0.000000</td>\n",
       "      <td>0.000000</td>\n",
       "      <td>0.000000</td>\n",
       "      <td>0.000000</td>\n",
       "      <td>0.000000</td>\n",
       "    </tr>\n",
       "    <tr>\n",
       "      <th>4.00</th>\n",
       "      <td>0.000000</td>\n",
       "      <td>0.000000</td>\n",
       "      <td>0.000000e+00</td>\n",
       "      <td>0.000000</td>\n",
       "      <td>0.000000</td>\n",
       "      <td>0.000000</td>\n",
       "      <td>0.000000</td>\n",
       "      <td>0.000000</td>\n",
       "    </tr>\n",
       "    <tr>\n",
       "      <th>4.50</th>\n",
       "      <td>0.000000</td>\n",
       "      <td>0.000000</td>\n",
       "      <td>0.000000e+00</td>\n",
       "      <td>0.000000</td>\n",
       "      <td>0.000000</td>\n",
       "      <td>0.000000</td>\n",
       "      <td>0.000000</td>\n",
       "      <td>0.000000</td>\n",
       "    </tr>\n",
       "    <tr>\n",
       "      <th>5.00</th>\n",
       "      <td>0.000000</td>\n",
       "      <td>0.000000</td>\n",
       "      <td>0.000000e+00</td>\n",
       "      <td>0.000000</td>\n",
       "      <td>0.000000</td>\n",
       "      <td>0.000000</td>\n",
       "      <td>0.000000</td>\n",
       "      <td>0.000000</td>\n",
       "    </tr>\n",
       "    <tr>\n",
       "      <th>5.50</th>\n",
       "      <td>0.000000</td>\n",
       "      <td>0.000000</td>\n",
       "      <td>0.000000e+00</td>\n",
       "      <td>0.000000</td>\n",
       "      <td>0.000000</td>\n",
       "      <td>0.000000</td>\n",
       "      <td>0.000000</td>\n",
       "      <td>0.000000</td>\n",
       "    </tr>\n",
       "    <tr>\n",
       "      <th>6.00</th>\n",
       "      <td>0.000000</td>\n",
       "      <td>0.000000</td>\n",
       "      <td>0.000000e+00</td>\n",
       "      <td>0.000000</td>\n",
       "      <td>0.000000</td>\n",
       "      <td>0.000000</td>\n",
       "      <td>0.000000</td>\n",
       "      <td>0.000000</td>\n",
       "    </tr>\n",
       "    <tr>\n",
       "      <th>6.50</th>\n",
       "      <td>0.000000</td>\n",
       "      <td>0.000000</td>\n",
       "      <td>0.000000e+00</td>\n",
       "      <td>0.000000</td>\n",
       "      <td>0.000000</td>\n",
       "      <td>0.000000</td>\n",
       "      <td>0.000000</td>\n",
       "      <td>0.000000</td>\n",
       "    </tr>\n",
       "    <tr>\n",
       "      <th>7.00</th>\n",
       "      <td>0.000000</td>\n",
       "      <td>0.000000</td>\n",
       "      <td>0.000000e+00</td>\n",
       "      <td>0.000000</td>\n",
       "      <td>0.000000</td>\n",
       "      <td>0.000000</td>\n",
       "      <td>0.000000</td>\n",
       "      <td>0.000000</td>\n",
       "    </tr>\n",
       "    <tr>\n",
       "      <th>7.50</th>\n",
       "      <td>0.000000</td>\n",
       "      <td>0.000000</td>\n",
       "      <td>0.000000e+00</td>\n",
       "      <td>0.000000</td>\n",
       "      <td>0.000000</td>\n",
       "      <td>0.000000</td>\n",
       "      <td>0.000000</td>\n",
       "      <td>0.000000</td>\n",
       "    </tr>\n",
       "    <tr>\n",
       "      <th>8.00</th>\n",
       "      <td>0.000000</td>\n",
       "      <td>0.000000</td>\n",
       "      <td>0.000000e+00</td>\n",
       "      <td>0.000000</td>\n",
       "      <td>0.000000</td>\n",
       "      <td>0.000000</td>\n",
       "      <td>0.000000</td>\n",
       "      <td>0.000000</td>\n",
       "    </tr>\n",
       "    <tr>\n",
       "      <th>8.50</th>\n",
       "      <td>0.000000</td>\n",
       "      <td>0.000000</td>\n",
       "      <td>0.000000e+00</td>\n",
       "      <td>0.000000</td>\n",
       "      <td>0.000000</td>\n",
       "      <td>0.000000</td>\n",
       "      <td>0.000000</td>\n",
       "      <td>0.000000</td>\n",
       "    </tr>\n",
       "  </tbody>\n",
       "</table>\n",
       "</div>"
      ],
      "text/plain": [
       "          Price      Delta         Gamma       Vega      Vomma      Vanna  \\\n",
       "Spot                                                                        \n",
       "0.05  94.976738  -5.023262  2.842171e-09  -0.025792  -0.003809  -0.025983   \n",
       "0.10  89.953476 -10.046524 -2.557954e-09  -0.051584  -0.007619  -0.051965   \n",
       "0.30  69.860429 -30.139571 -6.252776e-09  -0.154753  -0.022857  -0.155896   \n",
       "0.50  49.816227 -49.697737  3.454530e+00   0.151506   2.103149   3.099120   \n",
       "0.70  30.862792 -60.689764  5.479999e+01   3.992758   7.640262  21.222699   \n",
       "1.00  10.154297 -47.550588 -4.780282e+02  13.486999 -12.167533  66.465423   \n",
       "1.20   3.791799 -22.126426  2.732313e+02  10.670864   3.418957 -57.991951   \n",
       "1.40   1.307542  -8.945005 -9.634919e+01   5.903629   9.032842 -26.903475   \n",
       "1.70   0.249564  -1.523692  8.410695e+01   1.961895  10.713164 -23.221286   \n",
       "2.00   0.046854  -0.288447  1.906029e+01   0.558885   3.409014  -5.829044   \n",
       "2.50   0.000000   0.000000  0.000000e+00   0.023319   0.466376  -0.153362   \n",
       "3.00   0.000000   0.000000  0.000000e+00   0.000000   0.000000   0.000000   \n",
       "3.50   0.000000   0.000000  0.000000e+00   0.000000   0.000000   0.000000   \n",
       "4.00   0.000000   0.000000  0.000000e+00   0.000000   0.000000   0.000000   \n",
       "4.50   0.000000   0.000000  0.000000e+00   0.000000   0.000000   0.000000   \n",
       "5.00   0.000000   0.000000  0.000000e+00   0.000000   0.000000   0.000000   \n",
       "5.50   0.000000   0.000000  0.000000e+00   0.000000   0.000000   0.000000   \n",
       "6.00   0.000000   0.000000  0.000000e+00   0.000000   0.000000   0.000000   \n",
       "6.50   0.000000   0.000000  0.000000e+00   0.000000   0.000000   0.000000   \n",
       "7.00   0.000000   0.000000  0.000000e+00   0.000000   0.000000   0.000000   \n",
       "7.50   0.000000   0.000000  0.000000e+00   0.000000   0.000000   0.000000   \n",
       "8.00   0.000000   0.000000  0.000000e+00   0.000000   0.000000   0.000000   \n",
       "8.50   0.000000   0.000000  0.000000e+00   0.000000   0.000000   0.000000   \n",
       "\n",
       "             Rho   RepoSensi  \n",
       "Spot                          \n",
       "0.05 -201.336003   10.113635  \n",
       "0.10 -201.336003   20.227269  \n",
       "0.30 -201.336003   60.681808  \n",
       "0.50 -199.861951   99.331575  \n",
       "0.70 -182.303234  117.868774  \n",
       "1.00 -110.212730   84.143246  \n",
       "1.20  -59.398577   46.991794  \n",
       "1.40  -27.621558   22.194432  \n",
       "1.70   -7.710914    6.255891  \n",
       "2.00   -2.027860    1.660272  \n",
       "2.50   -0.197992    0.162102  \n",
       "3.00    0.000000    0.000000  \n",
       "3.50    0.000000    0.000000  \n",
       "4.00    0.000000    0.000000  \n",
       "4.50    0.000000    0.000000  \n",
       "5.00    0.000000    0.000000  \n",
       "5.50    0.000000    0.000000  \n",
       "6.00    0.000000    0.000000  \n",
       "6.50    0.000000    0.000000  \n",
       "7.00    0.000000    0.000000  \n",
       "7.50    0.000000    0.000000  \n",
       "8.00    0.000000    0.000000  \n",
       "8.50    0.000000    0.000000  "
      ]
     },
     "execution_count": 19,
     "metadata": {},
     "output_type": "execute_result"
    }
   ],
   "source": [
    "resSensi"
   ]
  },
  {
   "cell_type": "code",
   "execution_count": 20,
   "metadata": {},
   "outputs": [
    {
     "data": {
      "text/plain": [
       "10.15429748369277"
      ]
     },
     "execution_count": 20,
     "metadata": {},
     "output_type": "execute_result"
    }
   ],
   "source": [
    "sensiEngine.refPrice"
   ]
  },
  {
   "cell_type": "code",
   "execution_count": 21,
   "metadata": {},
   "outputs": [],
   "source": [
    "# refDif =  bsModel.generatePaths(barrierOptionProduct.maturity,Npaths=50000,listT=barrierOptionProduct.counponsSimulDates())\n",
    "# productPricer = BarrierOptionPricer(barrierOptionProduct,refDif,marketObj.discount)        \n",
    "# productPricer.price"
   ]
  },
  {
   "cell_type": "code",
   "execution_count": null,
   "metadata": {},
   "outputs": [],
   "source": []
  }
 ],
 "metadata": {
  "kernelspec": {
   "display_name": "Python 3",
   "language": "python",
   "name": "python3"
  },
  "language_info": {
   "codemirror_mode": {
    "name": "ipython",
    "version": 3
   },
   "file_extension": ".py",
   "mimetype": "text/x-python",
   "name": "python",
   "nbconvert_exporter": "python",
   "pygments_lexer": "ipython3",
   "version": "3.7.4"
  }
 },
 "nbformat": 4,
 "nbformat_minor": 4
}
